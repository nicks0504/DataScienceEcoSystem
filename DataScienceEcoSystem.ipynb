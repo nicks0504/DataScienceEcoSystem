{
 "cells": [
  {
   "cell_type": "markdown",
   "id": "a998f8d0-106a-4144-b9c4-9fdc040fd270",
   "metadata": {},
   "source": [
    "# Data Science Tools and Ecosystem"
   ]
  },
  {
   "cell_type": "markdown",
   "id": "3c445a50-cf41-43a9-a7bb-4fe0e40bb4b9",
   "metadata": {},
   "source": [
    "### In this notebook, Data Science Tools and Ecosystem are summarized."
   ]
  },
  {
   "cell_type": "markdown",
   "id": "b7dc9157-8217-4eee-8f36-f2be8ab8ade0",
   "metadata": {},
   "source": [
    "### Objectives:\n",
    "+ List popular languages that data scientists use\n",
    "+ List commonly used libraries used by data scientists\n",
    "+ List some data science tools\n",
    "+ Some examples for evaluating arithemetic expression "
   ]
  },
  {
   "cell_type": "markdown",
   "id": "cbf7370a-209b-4964-b492-ee9dbd58d53a",
   "metadata": {},
   "source": [
    "#### Some of the popular languages that Data Scientists use are:\n",
    "1. Python\n",
    "2. MySQL\n",
    "3. R"
   ]
  },
  {
   "cell_type": "markdown",
   "id": "c98e0dd2-bd79-4d6b-b6dc-54768de9b23f",
   "metadata": {},
   "source": [
    "#### Some of the commonly used libraries used by data scientists include:\n",
    "1. matplotlib\n",
    "2. numpy\n",
    "3. pandas"
   ]
  },
  {
   "cell_type": "markdown",
   "id": "79d32e4a-99e8-4d32-b46f-5198555f97bc",
   "metadata": {},
   "source": [
    "| Data Science Tools |\n",
    "| ------------------- |\n",
    "| Jupyter notebook |\n",
    "| RStudio |\n",
    "| Apache Zeppline |"
   ]
  },
  {
   "cell_type": "markdown",
   "id": "7faad514-41de-4a7a-af1c-6dda5c0f6927",
   "metadata": {},
   "source": [
    "### Below are few examples of evaluating arithemetic expressions in python. "
   ]
  },
  {
   "cell_type": "code",
   "execution_count": 2,
   "id": "62c5a73b-d322-48fb-b80b-2dee53ec2031",
   "metadata": {},
   "outputs": [
    {
     "data": {
      "text/plain": [
       "17"
      ]
     },
     "execution_count": 2,
     "metadata": {},
     "output_type": "execute_result"
    }
   ],
   "source": [
    "# This is a simple arithematic expression to multiply then add integers.\n",
    "(3*4)+5"
   ]
  },
  {
   "cell_type": "code",
   "execution_count": 3,
   "id": "d093c5fe-ad6d-4434-91fc-09272fd5929e",
   "metadata": {},
   "outputs": [
    {
     "data": {
      "text/plain": [
       "3.3333333333333335"
      ]
     },
     "execution_count": 3,
     "metadata": {},
     "output_type": "execute_result"
    }
   ],
   "source": [
    "# This will convert 200 minutes to hours by dividing by 60\n",
    "200/60"
   ]
  },
  {
   "cell_type": "markdown",
   "id": "248750bb-13e5-45ad-9232-902ca6c9a02e",
   "metadata": {},
   "source": [
    "## Author\n",
    "Smruti Panda"
   ]
  },
  {
   "cell_type": "code",
   "execution_count": null,
   "id": "31887dec-8131-475a-b8c8-e07c6fe6acbd",
   "metadata": {},
   "outputs": [],
   "source": []
  }
 ],
 "metadata": {
  "kernelspec": {
   "display_name": "Python 3 (ipykernel)",
   "language": "python",
   "name": "python3"
  },
  "language_info": {
   "codemirror_mode": {
    "name": "ipython",
    "version": 3
   },
   "file_extension": ".py",
   "mimetype": "text/x-python",
   "name": "python",
   "nbconvert_exporter": "python",
   "pygments_lexer": "ipython3",
   "version": "3.11.5"
  }
 },
 "nbformat": 4,
 "nbformat_minor": 5
}
